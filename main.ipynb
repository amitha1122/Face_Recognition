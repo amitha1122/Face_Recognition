{
 "cells": [
  {
   "cell_type": "code",
   "execution_count": 1,
   "metadata": {},
   "outputs": [],
   "source": [
    "import cv2\n",
    "import numpy as np\n",
    "import os\n",
    "import face_recognition\n",
    "import ctypes"
   ]
  },
  {
   "cell_type": "code",
   "execution_count": 2,
   "metadata": {},
   "outputs": [],
   "source": [
    "#Function to lock the screen\n",
    "def lock_screen():\n",
    "    if os.name == 'nt':  # Windows\n",
    "        ctypes.windll.user32.LockWorkStation()\n",
    "    elif os.name == 'posix':  # Mac/Linux\n",
    "        os.system('gnome-screensaver-command -l')"
   ]
  },
  {
   "cell_type": "code",
   "execution_count": 4,
   "metadata": {},
   "outputs": [],
   "source": [
    "# Load known faces\n",
    "known_faces_dir = r\"Pics\"\n",
    "known_face_encodings = []\n",
    "known_face_names = []\n",
    "\n",
    "for filename in os.listdir(known_faces_dir):\n",
    "    img_path = os.path.join(known_faces_dir, filename)\n",
    "    img = face_recognition.load_image_file(img_path)\n",
    "    \n",
    "    # Check if face encodings are found\n",
    "    face_encodings = face_recognition.face_encodings(img)\n",
    "    if face_encodings:\n",
    "        img_encoding = face_encodings[0]\n",
    "        known_face_encodings.append(img_encoding)\n",
    "        known_face_names.append(filename)\n",
    "    else:\n",
    "        print(f\"No faces found in {filename}\")"
   ]
  },
  {
   "cell_type": "code",
   "execution_count": 5,
   "metadata": {},
   "outputs": [
    {
     "name": "stdout",
     "output_type": "stream",
     "text": [
      "Stranger detected! Locking screen.\n"
     ]
    }
   ],
   "source": [
    "# Initialize webcam\n",
    "cap = cv2.VideoCapture(0)\n",
    "\n",
    "while True:\n",
    "    ret, frame = cap.read()\n",
    "    rgb_frame = cv2.cvtColor(frame, cv2.COLOR_BGR2RGB)\n",
    "    face_locations = face_recognition.face_locations(rgb_frame)\n",
    "    face_encodings = face_recognition.face_encodings(rgb_frame, face_locations)\n",
    "\n",
    "    stranger_detected = False\n",
    "    tolerance = 0.6  \n",
    "\n",
    "    for face_encoding in face_encodings:\n",
    "        # Compute distances between the current face encoding and known face encodings\n",
    "        distances = face_recognition.face_distance(known_face_encodings, face_encoding)\n",
    "        \n",
    "        # Check if any of the distances are within the tolerance\n",
    "        matches = distances <= tolerance\n",
    "        \n",
    "        if not any(matches):\n",
    "            stranger_detected = True\n",
    "            break\n",
    "\n",
    "    if stranger_detected:\n",
    "        print(\"Stranger detected! Locking screen.\")\n",
    "        lock_screen()\n",
    "        break\n",
    "    # Draw rectangles around detected faces\n",
    "    for (top, right, bottom, left) in face_locations:\n",
    "        cv2.rectangle(frame, (left, top), (right, bottom), (0, 255, 0), 2)\n",
    "    cv2.imshow('Face Recognition Security', frame)\n",
    "    if cv2.waitKey(1) & 0xFF == ord('q'):\n",
    "        break\n",
    "\n",
    "cap.release()\n",
    "cv2.destroyAllWindows()"
   ]
  }
 ],
 "metadata": {
  "kernelspec": {
   "display_name": "Python 3",
   "language": "python",
   "name": "python3"
  },
  "language_info": {
   "codemirror_mode": {
    "name": "ipython",
    "version": 3
   },
   "file_extension": ".py",
   "mimetype": "text/x-python",
   "name": "python",
   "nbconvert_exporter": "python",
   "pygments_lexer": "ipython3",
   "version": "3.12.2"
  }
 },
 "nbformat": 4,
 "nbformat_minor": 2
}
